{
 "cells": [
  {
   "cell_type": "code",
   "execution_count": null,
   "metadata": {},
   "outputs": [],
   "source": [
    "import pandas as pd\n",
    "before = pd.read_csv(\"socialdistancing/2020/02/01/2020-02-01-social-distancing.csv\")\n",
    "after = pd.read_csv(\"socialdistancing/2020/04/01/2020-04-01-social-distancing.csv\")"
   ]
  },
  {
   "cell_type": "code",
   "execution_count": null,
   "metadata": {},
   "outputs": [],
   "source": [
    "before.head()"
   ]
  },
  {
   "cell_type": "code",
   "execution_count": null,
   "metadata": {},
   "outputs": [],
   "source": [
    "main = pd.read_csv(\"fips/us-state-ansi-fips.csv\")\n",
    "main.head()"
   ]
  },
  {
   "cell_type": "code",
   "execution_count": null,
   "metadata": {},
   "outputs": [],
   "source": [
    "main['before_total'] = 0\n",
    "main['before_athome'] = 0\n",
    "main['before_percent'] = 0\n",
    "\n",
    "main['after_total'] = 0\n",
    "main['after_athome'] = 0\n",
    "main['after_percent'] = 0"
   ]
  },
  {
   "cell_type": "code",
   "execution_count": null,
   "metadata": {},
   "outputs": [],
   "source": [
    "main.head()"
   ]
  },
  {
   "cell_type": "code",
   "execution_count": null,
   "metadata": {},
   "outputs": [],
   "source": [
    "num = before.shape[0]\n",
    "for i in range(num):\n",
    "    fipsID = before['origin_census_block_group'][i]\n",
    "    fipsID = int(str(fipsID)[:2])\n",
    "\n",
    "    index = fips.index[fips['st'] == fipsID]\n",
    "    \n",
    "    deviceCount = before['device_count'].iloc[i] + main.loc[index, 'before_total']\n",
    "    atHome = before['completely_home_device_count'].iloc[i] + main.loc[index, 'before_athome']\n",
    "    \n",
    "    main.loc[index, 'before_total'] = deviceCount\n",
    "    main.loc[index, 'before_athome'] = atHome\n",
    "    main.loc[index, 'before_percent'] = (deviceCount/atHome)*100"
   ]
  },
  {
   "cell_type": "code",
   "execution_count": null,
   "metadata": {},
   "outputs": [],
   "source": [
    "num = before.shape[0]\n",
    "for i in range(num):\n",
    "    fipsID = after['origin_census_block_group'][i]\n",
    "    fipsID = int(str(fipsID)[:2])\n",
    "    \n",
    "    if (fipsID < 10):\n",
    "        print(fipsID)\n",
    "    \n",
    "    index = fips.index[fips['st'] == fipsID]\n",
    "    \n",
    "    deviceCount = after['device_count'].iloc[i] + main.loc[index, 'after_total']\n",
    "    atHome = after['completely_home_device_count'].iloc[i] + main.loc[index, 'after_athome']\n",
    "    \n",
    "    main.loc[index, 'after_total'] = deviceCount\n",
    "    main.loc[index, 'after_athome'] = atHome\n",
    "    main.loc[index, 'after_percent'] = (deviceCount/atHome)*100"
   ]
  }
 ],
 "metadata": {
  "kernelspec": {
   "display_name": "Python 3",
   "language": "python",
   "name": "python3"
  },
  "language_info": {
   "codemirror_mode": {
    "name": "ipython",
    "version": 3
   },
   "file_extension": ".py",
   "mimetype": "text/x-python",
   "name": "python",
   "nbconvert_exporter": "python",
   "pygments_lexer": "ipython3",
   "version": "3.7.3"
  }
 },
 "nbformat": 4,
 "nbformat_minor": 2
}
